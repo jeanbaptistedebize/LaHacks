{
 "cells": [
  {
   "cell_type": "code",
   "execution_count": 2,
   "id": "eff0ad27-c107-4139-b172-4bef4a901adc",
   "metadata": {
    "tags": []
   },
   "outputs": [
    {
     "name": "stderr",
     "output_type": "stream",
     "text": [
      "/Users/evancoons/anaconda3/lib/python3.11/site-packages/transformers/utils/generic.py:260: UserWarning: torch.utils._pytree._register_pytree_node is deprecated. Please use torch.utils._pytree.register_pytree_node instead.\n",
      "  torch.utils._pytree._register_pytree_node(\n"
     ]
    },
    {
     "data": {
      "application/vnd.jupyter.widget-view+json": {
       "model_id": "b388ad204a8c47f3a128aeaa907654b3",
       "version_major": 2,
       "version_minor": 0
      },
      "text/plain": [
       "Downloading config.json:   0%|          | 0.00/919 [00:00<?, ?B/s]"
      ]
     },
     "metadata": {},
     "output_type": "display_data"
    },
    {
     "data": {
      "application/vnd.jupyter.widget-view+json": {
       "model_id": "ea2b0952be3c4c498b1a1c413f0bb6f0",
       "version_major": 2,
       "version_minor": 0
      },
      "text/plain": [
       "Downloading pytorch_model.bin:   0%|          | 0.00/343M [00:00<?, ?B/s]"
      ]
     },
     "metadata": {},
     "output_type": "display_data"
    },
    {
     "data": {
      "application/vnd.jupyter.widget-view+json": {
       "model_id": "9da6a4b7b20d414b941d23f87a0cdf21",
       "version_major": 2,
       "version_minor": 0
      },
      "text/plain": [
       "Downloading (…)rocessor_config.json:   0%|          | 0.00/327 [00:00<?, ?B/s]"
      ]
     },
     "metadata": {},
     "output_type": "display_data"
    },
    {
     "name": "stderr",
     "output_type": "stream",
     "text": [
      "/Users/evancoons/anaconda3/lib/python3.11/site-packages/transformers/models/vit/feature_extraction_vit.py:28: FutureWarning: The class ViTFeatureExtractor is deprecated and will be removed in version 5 of Transformers. Please use ViTImageProcessor instead.\n",
      "  warnings.warn(\n"
     ]
    }
   ],
   "source": [
    "from transformers import pipeline\n",
    "\n",
    "pipe = pipeline(\"image-classification\", model=\"stanghong/leaf-disease-id\")"
   ]
  },
  {
   "cell_type": "code",
   "execution_count": 3,
   "id": "ce02a0ef-1c98-436c-ac58-d7e3e92e3722",
   "metadata": {
    "tags": []
   },
   "outputs": [],
   "source": [
    "from PIL import Image\n",
    "\n",
    "# Load an image file\n",
    "image = Image.open(\"/Users/evancoons/Downloads/Anthracnose.jpg\")"
   ]
  },
  {
   "cell_type": "code",
   "execution_count": 4,
   "id": "51b900f1-2674-4ae3-bcbb-4ef1a6e720b0",
   "metadata": {
    "tags": []
   },
   "outputs": [],
   "source": [
    "results = pipe(image)"
   ]
  },
  {
   "cell_type": "code",
   "execution_count": 5,
   "id": "ade7b648-e7fd-41aa-82e0-d9dca44e5f3a",
   "metadata": {
    "tags": []
   },
   "outputs": [
    {
     "name": "stdout",
     "output_type": "stream",
     "text": [
      "[{'score': 0.49461352825164795, 'label': 'Anthracnose'}, {'score': 0.1658649742603302, 'label': 'Leaf Blight: '}, {'score': 0.16136014461517334, 'label': 'Leaf Rust'}, {'score': 0.11622484773397446, 'label': 'leaf Powdery Mildew'}, {'score': 0.0619363971054554, 'label': 'leaf Black Spot'}]\n"
     ]
    }
   ],
   "source": [
    "print(results)"
   ]
  }
 ],
 "metadata": {
  "kernelspec": {
   "display_name": "Python 3 (ipykernel)",
   "language": "python",
   "name": "python3"
  },
  "language_info": {
   "codemirror_mode": {
    "name": "ipython",
    "version": 3
   },
   "file_extension": ".py",
   "mimetype": "text/x-python",
   "name": "python",
   "nbconvert_exporter": "python",
   "pygments_lexer": "ipython3",
   "version": "3.11.5"
  }
 },
 "nbformat": 4,
 "nbformat_minor": 5
}
